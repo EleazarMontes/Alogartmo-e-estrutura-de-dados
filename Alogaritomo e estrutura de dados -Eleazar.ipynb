{
 "cells": [
  {
   "cell_type": "code",
   "execution_count": 1,
   "metadata": {},
   "outputs": [
    {
     "name": "stdout",
     "output_type": "stream",
     "text": [
      "a é uma vogal.\n"
     ]
    }
   ],
   "source": [
    "#Verificar se uma letra digitada é vogal ou consoante\n",
    "def verifica_vogal_ou_consoante(caractere):\n",
    "    # Convertendo o caractere para minúsculo para facilitar a comparação\n",
    "    caractere = caractere.lower()\n",
    "\n",
    "    # Verifica se o caractere é uma vogal\n",
    "    if caractere in 'aeiou':\n",
    "        return f'{caractere} é uma vogal.'\n",
    "    # Verifica se o caractere é uma letra do alfabeto (não é dígito ou caractere especial)\n",
    "    elif caractere.isalpha():\n",
    "        return f'{caractere} é uma consoante.'\n",
    "    else:\n",
    "        return f'{caractere} não é uma letra válida.'\n",
    "\n",
    "# Exemplo de uso:\n",
    "caractere = input(\"Digite um caractere: \")\n",
    "resultado = verifica_vogal_ou_consoante(caractere)\n",
    "print(resultado)\n"
   ]
  },
  {
   "cell_type": "code",
   "execution_count": 2,
   "metadata": {},
   "outputs": [
    {
     "name": "stdout",
     "output_type": "stream",
     "text": [
      "Você deve comprar o Produto 2, pois é o mais barato.\n"
     ]
    }
   ],
   "source": [
    "# Informe o preço de três produtos, buscando o mais barato\n",
    "def produto_mais_barato(preco1, preco2, preco3):\n",
    "    # Verifica qual é o preço mais baixo entre os três produtos\n",
    "    if preco1 <= preco2 and preco1 <= preco3:\n",
    "        return \"Produto 1\"\n",
    "    elif preco2 <= preco1 and preco2 <= preco3:\n",
    "        return \"Produto 2\"\n",
    "    else:\n",
    "        return \"Produto 3\"\n",
    "\n",
    "# Solicita os preços dos produtos ao usuário\n",
    "preco1 = float(input(\"Digite o preço do Produto 1: R$ \"))\n",
    "preco2 = float(input(\"Digite o preço do Produto 2: R$ \"))\n",
    "preco3 = float(input(\"Digite o preço do Produto 3: R$ \"))\n",
    "\n",
    "# Chama a função para determinar qual produto é o mais barato\n",
    "produto_mais_barato = produto_mais_barato(preco1, preco2, preco3)\n",
    "\n",
    "# Exibe o resultado\n",
    "print(f\"Você deve comprar o {produto_mais_barato}, pois é o mais barato.\")\n"
   ]
  },
  {
   "cell_type": "code",
   "execution_count": 3,
   "metadata": {},
   "outputs": [
    {
     "name": "stdout",
     "output_type": "stream",
     "text": [
      "Números em ordem decrescente: [6.0, 4.0, 2.0]\n"
     ]
    }
   ],
   "source": [
    "#Apresente três números e os coloque em ordem decrescente\n",
    "def ordena_decrescente(num1, num2, num3):\n",
    "    # Cria uma lista com os números\n",
    "    numeros = [num1, num2, num3]\n",
    "    \n",
    "    # Ordena a lista em ordem decrescente\n",
    "    numeros.sort(reverse=True)\n",
    "    \n",
    "    # Retorna os números ordenados\n",
    "    return numeros\n",
    "\n",
    "# Solicita os números ao usuário\n",
    "num1 = float(input(\"Digite o primeiro número: \"))\n",
    "num2 = float(input(\"Digite o segundo número: \"))\n",
    "num3 = float(input(\"Digite o terceiro número: \"))\n",
    "\n",
    "# Chama a função para ordenar os números em ordem decrescente\n",
    "numeros_ordem_decrescente = ordena_decrescente(num1, num2, num3)\n",
    "\n",
    "# Exibe os números ordenados\n",
    "print(\"Números em ordem decrescente:\", numeros_ordem_decrescente)\n"
   ]
  },
  {
   "cell_type": "code",
   "execution_count": 4,
   "metadata": {},
   "outputs": [
    {
     "name": "stdout",
     "output_type": "stream",
     "text": [
      "Bom dia!\n"
     ]
    }
   ],
   "source": [
    "#Informe o turno que a pessoa estuda\n",
    "def saudacao_por_turno(turno):\n",
    "    if turno.upper() == 'M':\n",
    "        return \"Bom dia!\"\n",
    "    elif turno.upper() == 'V':\n",
    "        return \"Boa tarde!\"\n",
    "    elif turno.upper() == 'N':\n",
    "        return \"Boa noite!\"\n",
    "    else:\n",
    "        return \"Valor inválido!\"\n",
    "\n",
    "# Solicita ao usuário que insira o turno\n",
    "turno = input(\"Digite o turno que você estuda (M-matutino, V-vespertino, N-noturno): \")\n",
    "\n",
    "# Chama a função para obter a saudação correspondente ao turno\n",
    "mensagem = saudacao_por_turno(turno)\n",
    "\n",
    "# Exibe a mensagem correspondente ao turno\n",
    "print(mensagem)\n"
   ]
  },
  {
   "cell_type": "code",
   "execution_count": 5,
   "metadata": {},
   "outputs": [
    {
     "name": "stdout",
     "output_type": "stream",
     "text": [
      "Terça-feira\n"
     ]
    }
   ],
   "source": [
    "#Informando o dia da semana\n",
    "def dia_da_semana(numero):\n",
    "    dias_semana = {\n",
    "        1: \"Domingo\",\n",
    "        2: \"Segunda-feira\",\n",
    "        3: \"Terça-feira\",\n",
    "        4: \"Quarta-feira\",\n",
    "        5: \"Quinta-feira\",\n",
    "        6: \"Sexta-feira\",\n",
    "        7: \"Sábado\"\n",
    "    }\n",
    "\n",
    "    # Verifica se o número está no intervalo válido\n",
    "    if numero in dias_semana:\n",
    "        return dias_semana[numero]\n",
    "    else:\n",
    "        return \"Valor inválido!\"\n",
    "\n",
    "# Solicita ao usuário que insira o número correspondente ao dia da semana\n",
    "numero = int(input(\"Digite um número de 1 a 7 para saber o dia da semana: \"))\n",
    "\n",
    "# Chama a função para obter o nome do dia da semana correspondente ao número inserido\n",
    "nome_dia = dia_da_semana(numero)\n",
    "\n",
    "# Exibe o nome do dia da semana ou uma mensagem de valor inválido\n",
    "print(nome_dia)\n"
   ]
  },
  {
   "cell_type": "code",
   "execution_count": 6,
   "metadata": {},
   "outputs": [
    {
     "name": "stdout",
     "output_type": "stream",
     "text": [
      "A média das notas parciais é: 6.00\n",
      "Conceito: C\n",
      "Situação: APROVADO\n"
     ]
    }
   ],
   "source": [
    "#Apresentar médias e conceitos\n",
    "def calcular_media(nota1, nota2):\n",
    "    # Calcula a média das duas notas\n",
    "    media = (nota1 + nota2) / 2\n",
    "    return media\n",
    "\n",
    "def verificar_conceito(media):\n",
    "    # Verifica o conceito com base na média\n",
    "    if media >= 9.0:\n",
    "        return 'A'\n",
    "    elif media >= 7.5:\n",
    "        return 'B'\n",
    "    elif media >= 6.0:\n",
    "        return 'C'\n",
    "    elif media >= 4.0:\n",
    "        return 'D'\n",
    "    else:\n",
    "        return 'E'\n",
    "\n",
    "# Solicita ao usuário que insira as duas notas parciais\n",
    "nota1 = float(input(\"Digite a primeira nota parcial: \"))\n",
    "nota2 = float(input(\"Digite a segunda nota parcial: \"))\n",
    "\n",
    "# Chama a função para calcular a média das notas inseridas\n",
    "media = calcular_media(nota1, nota2)\n",
    "\n",
    "# Chama a função para verificar o conceito com base na média\n",
    "conceito = verificar_conceito(media)\n",
    "\n",
    "# Verifica se o aluno está aprovado ou reprovado com base no conceito\n",
    "if conceito in ['A', 'B', 'C']:\n",
    "    situacao = 'APROVADO'\n",
    "else:\n",
    "    situacao = 'REPROVADO'\n",
    "\n",
    "# Exibe a média, o conceito e a situação do aluno\n",
    "print(f\"A média das notas parciais é: {media:.2f}\")\n",
    "print(f\"Conceito: {conceito}\")\n",
    "print(f\"Situação: {situacao}\")\n"
   ]
  },
  {
   "cell_type": "code",
   "execution_count": 7,
   "metadata": {},
   "outputs": [
    {
     "name": "stdout",
     "output_type": "stream",
     "text": [
      "O ano 1985 não é bissexto.\n"
     ]
    }
   ],
   "source": [
    "#Ano é ou não bissexto\n",
    "def verifica_bissexto(ano):\n",
    "    if (ano % 4 == 0 and ano % 100 != 0) or (ano % 400 == 0):\n",
    "        return True\n",
    "    else:\n",
    "        return False\n",
    "\n",
    "# Solicita ao usuário que insira um ano\n",
    "ano = int(input(\"Digite um ano para verificar se é bissexto: \"))\n",
    "\n",
    "# Chama a função para verificar se o ano é bissexto\n",
    "if verifica_bissexto(ano):\n",
    "    print(f\"O ano {ano} é bissexto.\")\n",
    "else:\n",
    "    print(f\"O ano {ano} não é bissexto.\")\n"
   ]
  },
  {
   "cell_type": "code",
   "execution_count": 8,
   "metadata": {},
   "outputs": [
    {
     "name": "stdout",
     "output_type": "stream",
     "text": [
      "\n",
      "Resultados das Operações:\n",
      "Soma: 8.0\n",
      "Subtração: 2.0\n",
      "Multiplicação: 15.0\n",
      "Divisão: 1.6666666666666667\n",
      "Exponenciação: 125.0\n",
      "Par ou Ímpar: Par\n",
      "Positivo ou Negativo: Positivo\n",
      "Inteiro ou Decimal: Inteiro\n"
     ]
    }
   ],
   "source": [
    "#Verificação das operações básicas\n",
    "def operacoes_basicas(num1, num2):\n",
    "    # Adição\n",
    "    soma = num1 + num2\n",
    "    \n",
    "    # Subtração\n",
    "    subtracao = num1 - num2\n",
    "    \n",
    "    # Multiplicação\n",
    "    multiplicacao = num1 * num2\n",
    "    \n",
    "    # Divisão\n",
    "    if num2 != 0:\n",
    "        divisao = num1 / num2\n",
    "    else:\n",
    "        divisao = None  # Se o denominador for zero, evita erro de divisão por zero\n",
    "    \n",
    "    # Exponenciação\n",
    "    exponenciacao = num1 ** num2\n",
    "    \n",
    "    # Verifica se o resultado da soma é par ou ímpar\n",
    "    if soma % 2 == 0:\n",
    "        par_impar = \"Par\"\n",
    "    else:\n",
    "        par_impar = \"Ímpar\"\n",
    "    \n",
    "    # Verifica se o resultado da soma é positivo ou negativo\n",
    "    if soma >= 0:\n",
    "        positivo_negativo = \"Positivo\"\n",
    "    else:\n",
    "        positivo_negativo = \"Negativo\"\n",
    "    \n",
    "    # Verifica se o resultado da soma é inteiro ou decimal\n",
    "    if soma == int(soma):\n",
    "        inteiro_decimal = \"Inteiro\"\n",
    "    else:\n",
    "        inteiro_decimal = \"Decimal\"\n",
    "    \n",
    "    # Retorna os resultados das operações e suas características\n",
    "    return {\n",
    "        \"Soma\": soma,\n",
    "        \"Subtração\": subtracao,\n",
    "        \"Multiplicação\": multiplicacao,\n",
    "        \"Divisão\": divisao,\n",
    "        \"Exponenciação\": exponenciacao,\n",
    "        \"Par ou Ímpar\": par_impar,\n",
    "        \"Positivo ou Negativo\": positivo_negativo,\n",
    "        \"Inteiro ou Decimal\": inteiro_decimal\n",
    "    }\n",
    "\n",
    "# Solicita ao usuário que insira dois números\n",
    "num1 = float(input(\"Digite o primeiro número: \"))\n",
    "num2 = float(input(\"Digite o segundo número: \"))\n",
    "\n",
    "# Chama a função para realizar as operações básicas\n",
    "resultados = operacoes_basicas(num1, num2)\n",
    "\n",
    "# Exibe os resultados das operações e suas características\n",
    "print(\"\\nResultados das Operações:\")\n",
    "for operacao, resultado in resultados.items():\n",
    "    print(f\"{operacao}: {resultado}\")\n",
    "\n"
   ]
  },
  {
   "cell_type": "code",
   "execution_count": 9,
   "metadata": {},
   "outputs": [
    {
     "name": "stdout",
     "output_type": "stream",
     "text": [
      "Sua idade é: 32\n"
     ]
    }
   ],
   "source": [
    "#Verificar idade\n",
    "def obter_idade():\n",
    "    while True:\n",
    "        try:\n",
    "            idade = int(input(\"Digite sua idade (entre 0 e 150): \"))\n",
    "            if 0 <= idade <= 150:\n",
    "                return idade\n",
    "            else:\n",
    "                print(\"Idade fora do intervalo permitido. Tente novamente.\")\n",
    "        except ValueError:\n",
    "            print(\"Valor inválido. Por favor, digite um número inteiro.\")\n",
    "\n",
    "# Chama a função para obter a idade dentro do intervalo permitido\n",
    "idade = obter_idade()\n",
    "\n",
    "# Exibe a idade aceita\n",
    "print(f\"Sua idade é: {idade}\")\n"
   ]
  },
  {
   "cell_type": "code",
   "execution_count": 10,
   "metadata": {},
   "outputs": [
    {
     "name": "stdout",
     "output_type": "stream",
     "text": [
      "Soma dos números: 37.0\n",
      "Média dos números: 7.40\n"
     ]
    }
   ],
   "source": [
    "#Calculo de soma e média\n",
    "def calcular_soma_media():\n",
    "    numeros = []\n",
    "    \n",
    "    # Loop para ler 5 números e armazená-los na lista\n",
    "    for i in range(5):\n",
    "        numero = float(input(f\"Digite o {i+1}º número: \"))\n",
    "        numeros.append(numero)  # Adiciona o número à lista\n",
    "    \n",
    "    # Calcula a soma dos números\n",
    "    soma = sum(numeros)\n",
    "    \n",
    "    # Calcula a média dos números\n",
    "    media = soma / len(numeros)\n",
    "    \n",
    "    return soma, media\n",
    "\n",
    "# Chama a função para calcular a soma e a média dos números\n",
    "soma, media = calcular_soma_media()\n",
    "\n",
    "# Exibe a soma e a média dos números\n",
    "print(f\"Soma dos números: {soma}\")\n",
    "print(f\"Média dos números: {media:.2f}\")\n"
   ]
  },
  {
   "cell_type": "code",
   "execution_count": 11,
   "metadata": {},
   "outputs": [
    {
     "name": "stdout",
     "output_type": "stream",
     "text": [
      "O número 11 é primo.\n"
     ]
    }
   ],
   "source": [
    "#Conferir número primo\n",
    "def verifica_primo(numero):\n",
    "    # Números menores ou iguais a 1 não são primos\n",
    "    if numero <= 1:\n",
    "        return False\n",
    "    \n",
    "    # Verifica se o número é divisível por algum número além de 1 e ele mesmo\n",
    "    for i in range(2, int(numero**0.5) + 1):\n",
    "        if numero % i == 0:\n",
    "            return False\n",
    "    \n",
    "    return True\n",
    "\n",
    "# Solicita ao usuário que insira um número\n",
    "numero = int(input(\"Digite um número para verificar se é primo: \"))\n",
    "\n",
    "# Chama a função para verificar se o número é primo\n",
    "if verifica_primo(numero):\n",
    "    print(f\"O número {numero} é primo.\")\n",
    "else:\n",
    "    print(f\"O número {numero} não é primo.\")\n"
   ]
  },
  {
   "cell_type": "code",
   "execution_count": 12,
   "metadata": {},
   "outputs": [
    {
     "name": "stdout",
     "output_type": "stream",
     "text": [
      "Menor temperatura: 15.0\n",
      "Maior temperatura: 45.0\n",
      "Média das temperaturas: 27.40\n"
     ]
    }
   ],
   "source": [
    "#Temperatura\n",
    "def analisar_temperaturas(temperaturas):\n",
    "    # Encontra a menor e a maior temperatura na lista\n",
    "    menor_temp = min(temperaturas)\n",
    "    maior_temp = max(temperaturas)\n",
    "    \n",
    "    # Calcula a média das temperaturas\n",
    "    media_temp = sum(temperaturas) / len(temperaturas)\n",
    "    \n",
    "    return menor_temp, maior_temp, media_temp\n",
    "\n",
    "# Solicita ao usuário que insira as 5 temperaturas\n",
    "temperaturas = []\n",
    "for i in range(5):\n",
    "    temp = float(input(f\"Digite a {i+1}ª temperatura: \"))\n",
    "    temperaturas.append(temp)\n",
    "\n",
    "# Chama a função para analisar as temperaturas\n",
    "menor_temp, maior_temp, media_temp = analisar_temperaturas(temperaturas)\n",
    "\n",
    "# Exibe os resultados\n",
    "print(f\"Menor temperatura: {menor_temp}\")\n",
    "print(f\"Maior temperatura: {maior_temp}\")\n",
    "print(f\"Média das temperaturas: {media_temp:.2f}\")\n"
   ]
  },
  {
   "cell_type": "code",
   "execution_count": 13,
   "metadata": {},
   "outputs": [
    {
     "name": "stdout",
     "output_type": "stream",
     "text": [
      "O crédito do cliente é: R$0.00\n"
     ]
    }
   ],
   "source": [
    "#Valor do saldo médio\n",
    "def calcular_credito(saldo_medio):\n",
    "    if saldo_medio >= 0 and saldo_medio <= 200:\n",
    "        percentual = 0\n",
    "    elif saldo_medio <= 400:\n",
    "        percentual = 0.2\n",
    "    elif saldo_medio <= 600:\n",
    "        percentual = 0.3\n",
    "    else:\n",
    "        percentual = 0.4\n",
    "    \n",
    "    credito = saldo_medio * percentual\n",
    "    return credito\n",
    "\n",
    "# Solicita ao usuário que insira o saldo médio do último ano\n",
    "saldo_medio = float(input(\"Digite o saldo médio do último ano: \"))\n",
    "\n",
    "# Chama a função para calcular o crédito com base no saldo médio\n",
    "credito = calcular_credito(saldo_medio)\n",
    "\n",
    "# Exibe o crédito calculado\n",
    "print(f\"O crédito do cliente é: R${credito:.2f}\")\n"
   ]
  },
  {
   "cell_type": "code",
   "execution_count": 14,
   "metadata": {},
   "outputs": [
    {
     "name": "stdout",
     "output_type": "stream",
     "text": [
      "Olá, Eleazar! Você poderá se aposentar em 2057.\n"
     ]
    }
   ],
   "source": [
    "#Ano que a pessoa poderá se aposentar\n",
    "from datetime import date\n",
    "\n",
    "def calcular_ano_aposentadoria(nome, idade):\n",
    "    ano_atual = date.today().year\n",
    "    ano_aposentadoria = ano_atual + (65 - idade)\n",
    "    return ano_aposentadoria\n",
    "\n",
    "# Solicita ao usuário que insira o nome e a idade\n",
    "nome = input(\"Digite seu nome: \")\n",
    "idade = int(input(\"Digite sua idade: \"))\n",
    "\n",
    "# Chama a função para calcular o ano de aposentadoria\n",
    "ano_aposentadoria = calcular_ano_aposentadoria(nome, idade)\n",
    "\n",
    "# Exibe a resposta com o ano de aposentadoria previsto\n",
    "print(f\"Olá, {nome}! Você poderá se aposentar em {ano_aposentadoria}.\")\n"
   ]
  },
  {
   "cell_type": "code",
   "execution_count": 15,
   "metadata": {},
   "outputs": [
    {
     "name": "stdout",
     "output_type": "stream",
     "text": [
      "Salário bruto: R$1000.00\n",
      "Desconto de Imposto de Renda: R$0.00\n"
     ]
    }
   ],
   "source": [
    "#Calculo de Folha de Pagamento\n",
    "def calcular_salario_bruto(valor_hora, horas_trabalhadas):\n",
    "    return valor_hora * horas_trabalhadas\n",
    "\n",
    "def calcular_imposto_renda(salario_bruto):\n",
    "    if salario_bruto <= 2112:\n",
    "        desconto_ir = 0\n",
    "    elif salario_bruto <= 3172:\n",
    "        desconto_ir = (salario_bruto - 2112) * 0.15\n",
    "    elif salario_bruto <= 4228:\n",
    "        desconto_ir = (salario_bruto - 3172) * 0.225 + 320\n",
    "    else:\n",
    "        desconto_ir = (salario_bruto - 4228) * 0.275 + 577.50\n",
    "    \n",
    "    return desconto_ir\n",
    "\n",
    "# Solicita ao usuário que insira o valor da hora e a quantidade de horas trabalhadas\n",
    "valor_hora = float(input(\"Digite o valor da hora de trabalho: \"))\n",
    "horas_trabalhadas = float(input(\"Digite a quantidade de horas trabalhadas no mês: \"))\n",
    "\n",
    "# Chama a função para calcular o salário bruto\n",
    "salario_bruto = calcular_salario_bruto(valor_hora, horas_trabalhadas)\n",
    "\n",
    "# Chama a função para calcular o imposto de renda\n",
    "desconto_ir = calcular_imposto_renda(salario_bruto)\n",
    "\n",
    "# Exibe o salário bruto e o desconto de imposto de renda\n",
    "print(f\"Salário bruto: R${salario_bruto:.2f}\")\n",
    "print(f\"Desconto de Imposto de Renda: R${desconto_ir:.2f}\")\n"
   ]
  }
 ],
 "metadata": {
  "kernelspec": {
   "display_name": "Python 3",
   "language": "python",
   "name": "python3"
  },
  "language_info": {
   "codemirror_mode": {
    "name": "ipython",
    "version": 3
   },
   "file_extension": ".py",
   "mimetype": "text/x-python",
   "name": "python",
   "nbconvert_exporter": "python",
   "pygments_lexer": "ipython3",
   "version": "3.11.9"
  }
 },
 "nbformat": 4,
 "nbformat_minor": 2
}
